{
 "cells": [
  {
   "cell_type": "code",
   "execution_count": 3,
   "id": "361e9899",
   "metadata": {
    "execution": {
     "iopub.execute_input": "2023-02-21T19:38:35.580150Z",
     "iopub.status.busy": "2023-02-21T19:38:35.579657Z",
     "iopub.status.idle": "2023-02-21T19:38:35.590816Z",
     "shell.execute_reply": "2023-02-21T19:38:35.589497Z"
    },
    "papermill": {
     "duration": 0.030115,
     "end_time": "2023-02-21T19:38:35.593331",
     "exception": false,
     "start_time": "2023-02-21T19:38:35.563216",
     "status": "completed"
    },
    "tags": []
   },
   "outputs": [],
   "source": [
    "import numpy as np   \n",
    "import pandas as pd  \n",
    "import chardet   \n",
    "import string\n",
    "from nltk.corpus import stopwords"
   ]
  },
  {
   "cell_type": "code",
   "execution_count": 4,
   "id": "9b2e7dd2",
   "metadata": {
    "execution": {
     "iopub.execute_input": "2023-02-21T19:38:35.654925Z",
     "iopub.status.busy": "2023-02-21T19:38:35.654608Z",
     "iopub.status.idle": "2023-02-21T19:38:38.273371Z",
     "shell.execute_reply": "2023-02-21T19:38:38.272220Z"
    },
    "papermill": {
     "duration": 2.637522,
     "end_time": "2023-02-21T19:38:38.275348",
     "exception": false,
     "start_time": "2023-02-21T19:38:35.637826",
     "status": "completed"
    },
    "tags": []
   },
   "outputs": [
    {
     "name": "stdout",
     "output_type": "stream",
     "text": [
      "{'encoding': 'Windows-1252', 'confidence': 0.7268495402843178, 'language': ''}\n"
     ]
    }
   ],
   "source": [
    "file_path = 'spam.csv'\n",
    "with open (file_path, 'rb') as rawdata:\n",
    "    result = chardet.detect(rawdata.read(500000))\n",
    "print(result)"
   ]
  },
  {
   "cell_type": "code",
   "execution_count": 5,
   "id": "a2b2050a",
   "metadata": {
    "execution": {
     "iopub.execute_input": "2023-02-21T19:38:38.336464Z",
     "iopub.status.busy": "2023-02-21T19:38:38.336071Z",
     "iopub.status.idle": "2023-02-21T19:38:38.359940Z",
     "shell.execute_reply": "2023-02-21T19:38:38.358842Z"
    },
    "papermill": {
     "duration": 0.042042,
     "end_time": "2023-02-21T19:38:38.362139",
     "exception": false,
     "start_time": "2023-02-21T19:38:38.320097",
     "status": "completed"
    },
    "tags": []
   },
   "outputs": [],
   "source": [
    "sms = pd.read_csv(file_path, encoding = \"Windows-1252\")"
   ]
  },
  {
   "cell_type": "code",
   "execution_count": 6,
   "id": "7c97fee5",
   "metadata": {
    "execution": {
     "iopub.execute_input": "2023-02-21T19:38:38.424011Z",
     "iopub.status.busy": "2023-02-21T19:38:38.423087Z",
     "iopub.status.idle": "2023-02-21T19:38:38.445367Z",
     "shell.execute_reply": "2023-02-21T19:38:38.444723Z"
    },
    "papermill": {
     "duration": 0.040866,
     "end_time": "2023-02-21T19:38:38.447176",
     "exception": false,
     "start_time": "2023-02-21T19:38:38.406310",
     "status": "completed"
    },
    "tags": []
   },
   "outputs": [
    {
     "data": {
      "text/html": [
       "<div>\n",
       "<style scoped>\n",
       "    .dataframe tbody tr th:only-of-type {\n",
       "        vertical-align: middle;\n",
       "    }\n",
       "\n",
       "    .dataframe tbody tr th {\n",
       "        vertical-align: top;\n",
       "    }\n",
       "\n",
       "    .dataframe thead th {\n",
       "        text-align: right;\n",
       "    }\n",
       "</style>\n",
       "<table border=\"1\" class=\"dataframe\">\n",
       "  <thead>\n",
       "    <tr style=\"text-align: right;\">\n",
       "      <th></th>\n",
       "      <th>v1</th>\n",
       "      <th>v2</th>\n",
       "      <th>Unnamed: 2</th>\n",
       "      <th>Unnamed: 3</th>\n",
       "      <th>Unnamed: 4</th>\n",
       "    </tr>\n",
       "  </thead>\n",
       "  <tbody>\n",
       "    <tr>\n",
       "      <th>0</th>\n",
       "      <td>ham</td>\n",
       "      <td>Go until jurong point, crazy.. Available only ...</td>\n",
       "      <td>NaN</td>\n",
       "      <td>NaN</td>\n",
       "      <td>NaN</td>\n",
       "    </tr>\n",
       "    <tr>\n",
       "      <th>1</th>\n",
       "      <td>ham</td>\n",
       "      <td>Ok lar... Joking wif u oni...</td>\n",
       "      <td>NaN</td>\n",
       "      <td>NaN</td>\n",
       "      <td>NaN</td>\n",
       "    </tr>\n",
       "    <tr>\n",
       "      <th>2</th>\n",
       "      <td>spam</td>\n",
       "      <td>Free entry in 2 a wkly comp to win FA Cup fina...</td>\n",
       "      <td>NaN</td>\n",
       "      <td>NaN</td>\n",
       "      <td>NaN</td>\n",
       "    </tr>\n",
       "    <tr>\n",
       "      <th>3</th>\n",
       "      <td>ham</td>\n",
       "      <td>U dun say so early hor... U c already then say...</td>\n",
       "      <td>NaN</td>\n",
       "      <td>NaN</td>\n",
       "      <td>NaN</td>\n",
       "    </tr>\n",
       "    <tr>\n",
       "      <th>4</th>\n",
       "      <td>ham</td>\n",
       "      <td>Nah I don't think he goes to usf, he lives aro...</td>\n",
       "      <td>NaN</td>\n",
       "      <td>NaN</td>\n",
       "      <td>NaN</td>\n",
       "    </tr>\n",
       "  </tbody>\n",
       "</table>\n",
       "</div>"
      ],
      "text/plain": [
       "     v1                                                 v2 Unnamed: 2  \\\n",
       "0   ham  Go until jurong point, crazy.. Available only ...        NaN   \n",
       "1   ham                      Ok lar... Joking wif u oni...        NaN   \n",
       "2  spam  Free entry in 2 a wkly comp to win FA Cup fina...        NaN   \n",
       "3   ham  U dun say so early hor... U c already then say...        NaN   \n",
       "4   ham  Nah I don't think he goes to usf, he lives aro...        NaN   \n",
       "\n",
       "  Unnamed: 3 Unnamed: 4  \n",
       "0        NaN        NaN  \n",
       "1        NaN        NaN  \n",
       "2        NaN        NaN  \n",
       "3        NaN        NaN  \n",
       "4        NaN        NaN  "
      ]
     },
     "execution_count": 6,
     "metadata": {},
     "output_type": "execute_result"
    }
   ],
   "source": [
    "sms.head()"
   ]
  },
  {
   "cell_type": "code",
   "execution_count": 7,
   "id": "5e0f63fb",
   "metadata": {
    "execution": {
     "iopub.execute_input": "2023-02-21T19:38:38.479767Z",
     "iopub.status.busy": "2023-02-21T19:38:38.478675Z",
     "iopub.status.idle": "2023-02-21T19:38:38.488772Z",
     "shell.execute_reply": "2023-02-21T19:38:38.487569Z"
    },
    "papermill": {
     "duration": 0.0285,
     "end_time": "2023-02-21T19:38:38.490859",
     "exception": false,
     "start_time": "2023-02-21T19:38:38.462359",
     "status": "completed"
    },
    "tags": []
   },
   "outputs": [
    {
     "name": "stdout",
     "output_type": "stream",
     "text": [
      "Finished class where are you.\n",
      "ham\n"
     ]
    }
   ],
   "source": [
    "print(sms.v2[71])      \n",
    "print(sms.v1[71])      "
   ]
  },
  {
   "cell_type": "code",
   "execution_count": 8,
   "id": "37bb7b15",
   "metadata": {
    "execution": {
     "iopub.execute_input": "2023-02-21T19:38:38.522821Z",
     "iopub.status.busy": "2023-02-21T19:38:38.522425Z",
     "iopub.status.idle": "2023-02-21T19:38:38.544509Z",
     "shell.execute_reply": "2023-02-21T19:38:38.543681Z"
    },
    "papermill": {
     "duration": 0.041238,
     "end_time": "2023-02-21T19:38:38.547423",
     "exception": false,
     "start_time": "2023-02-21T19:38:38.506185",
     "status": "completed"
    },
    "tags": []
   },
   "outputs": [
    {
     "name": "stdout",
     "output_type": "stream",
     "text": [
      "<class 'pandas.core.frame.DataFrame'>\n",
      "RangeIndex: 5572 entries, 0 to 5571\n",
      "Data columns (total 5 columns):\n",
      " #   Column      Non-Null Count  Dtype \n",
      "---  ------      --------------  ----- \n",
      " 0   v1          5572 non-null   object\n",
      " 1   v2          5572 non-null   object\n",
      " 2   Unnamed: 2  50 non-null     object\n",
      " 3   Unnamed: 3  12 non-null     object\n",
      " 4   Unnamed: 4  6 non-null      object\n",
      "dtypes: object(5)\n",
      "memory usage: 217.8+ KB\n"
     ]
    }
   ],
   "source": [
    "sms.info()"
   ]
  },
  {
   "cell_type": "code",
   "execution_count": 9,
   "id": "89d35531",
   "metadata": {
    "execution": {
     "iopub.execute_input": "2023-02-21T19:38:38.641502Z",
     "iopub.status.busy": "2023-02-21T19:38:38.641127Z",
     "iopub.status.idle": "2023-02-21T19:38:38.651816Z",
     "shell.execute_reply": "2023-02-21T19:38:38.650969Z"
    },
    "papermill": {
     "duration": 0.02907,
     "end_time": "2023-02-21T19:38:38.653639",
     "exception": false,
     "start_time": "2023-02-21T19:38:38.624569",
     "status": "completed"
    },
    "tags": []
   },
   "outputs": [
    {
     "data": {
      "text/html": [
       "<div>\n",
       "<style scoped>\n",
       "    .dataframe tbody tr th:only-of-type {\n",
       "        vertical-align: middle;\n",
       "    }\n",
       "\n",
       "    .dataframe tbody tr th {\n",
       "        vertical-align: top;\n",
       "    }\n",
       "\n",
       "    .dataframe thead th {\n",
       "        text-align: right;\n",
       "    }\n",
       "</style>\n",
       "<table border=\"1\" class=\"dataframe\">\n",
       "  <thead>\n",
       "    <tr style=\"text-align: right;\">\n",
       "      <th></th>\n",
       "      <th>v1</th>\n",
       "      <th>v2</th>\n",
       "      <th>Unnamed: 2</th>\n",
       "      <th>Unnamed: 3</th>\n",
       "      <th>Unnamed: 4</th>\n",
       "    </tr>\n",
       "  </thead>\n",
       "  <tbody>\n",
       "    <tr>\n",
       "      <th>0</th>\n",
       "      <td>ham</td>\n",
       "      <td>Go until jurong point, crazy.. Available only ...</td>\n",
       "      <td>NaN</td>\n",
       "      <td>NaN</td>\n",
       "      <td>NaN</td>\n",
       "    </tr>\n",
       "    <tr>\n",
       "      <th>1</th>\n",
       "      <td>ham</td>\n",
       "      <td>Ok lar... Joking wif u oni...</td>\n",
       "      <td>NaN</td>\n",
       "      <td>NaN</td>\n",
       "      <td>NaN</td>\n",
       "    </tr>\n",
       "    <tr>\n",
       "      <th>2</th>\n",
       "      <td>spam</td>\n",
       "      <td>Free entry in 2 a wkly comp to win FA Cup fina...</td>\n",
       "      <td>NaN</td>\n",
       "      <td>NaN</td>\n",
       "      <td>NaN</td>\n",
       "    </tr>\n",
       "    <tr>\n",
       "      <th>3</th>\n",
       "      <td>ham</td>\n",
       "      <td>U dun say so early hor... U c already then say...</td>\n",
       "      <td>NaN</td>\n",
       "      <td>NaN</td>\n",
       "      <td>NaN</td>\n",
       "    </tr>\n",
       "    <tr>\n",
       "      <th>4</th>\n",
       "      <td>ham</td>\n",
       "      <td>Nah I don't think he goes to usf, he lives aro...</td>\n",
       "      <td>NaN</td>\n",
       "      <td>NaN</td>\n",
       "      <td>NaN</td>\n",
       "    </tr>\n",
       "  </tbody>\n",
       "</table>\n",
       "</div>"
      ],
      "text/plain": [
       "     v1                                                 v2 Unnamed: 2  \\\n",
       "0   ham  Go until jurong point, crazy.. Available only ...        NaN   \n",
       "1   ham                      Ok lar... Joking wif u oni...        NaN   \n",
       "2  spam  Free entry in 2 a wkly comp to win FA Cup fina...        NaN   \n",
       "3   ham  U dun say so early hor... U c already then say...        NaN   \n",
       "4   ham  Nah I don't think he goes to usf, he lives aro...        NaN   \n",
       "\n",
       "  Unnamed: 3 Unnamed: 4  \n",
       "0        NaN        NaN  \n",
       "1        NaN        NaN  \n",
       "2        NaN        NaN  \n",
       "3        NaN        NaN  \n",
       "4        NaN        NaN  "
      ]
     },
     "execution_count": 9,
     "metadata": {},
     "output_type": "execute_result"
    }
   ],
   "source": [
    "sms.head()"
   ]
  },
  {
   "cell_type": "code",
   "execution_count": 10,
   "id": "e74f19d0",
   "metadata": {
    "execution": {
     "iopub.execute_input": "2023-02-21T19:38:38.686503Z",
     "iopub.status.busy": "2023-02-21T19:38:38.686156Z",
     "iopub.status.idle": "2023-02-21T19:38:38.698432Z",
     "shell.execute_reply": "2023-02-21T19:38:38.697645Z"
    },
    "papermill": {
     "duration": 0.030546,
     "end_time": "2023-02-21T19:38:38.700194",
     "exception": false,
     "start_time": "2023-02-21T19:38:38.669648",
     "status": "completed"
    },
    "tags": []
   },
   "outputs": [
    {
     "data": {
      "text/html": [
       "<div>\n",
       "<style scoped>\n",
       "    .dataframe tbody tr th:only-of-type {\n",
       "        vertical-align: middle;\n",
       "    }\n",
       "\n",
       "    .dataframe tbody tr th {\n",
       "        vertical-align: top;\n",
       "    }\n",
       "\n",
       "    .dataframe thead th {\n",
       "        text-align: right;\n",
       "    }\n",
       "</style>\n",
       "<table border=\"1\" class=\"dataframe\">\n",
       "  <thead>\n",
       "    <tr style=\"text-align: right;\">\n",
       "      <th></th>\n",
       "      <th>label</th>\n",
       "      <th>message</th>\n",
       "    </tr>\n",
       "  </thead>\n",
       "  <tbody>\n",
       "    <tr>\n",
       "      <th>0</th>\n",
       "      <td>ham</td>\n",
       "      <td>Go until jurong point, crazy.. Available only ...</td>\n",
       "    </tr>\n",
       "    <tr>\n",
       "      <th>1</th>\n",
       "      <td>ham</td>\n",
       "      <td>Ok lar... Joking wif u oni...</td>\n",
       "    </tr>\n",
       "    <tr>\n",
       "      <th>2</th>\n",
       "      <td>spam</td>\n",
       "      <td>Free entry in 2 a wkly comp to win FA Cup fina...</td>\n",
       "    </tr>\n",
       "    <tr>\n",
       "      <th>3</th>\n",
       "      <td>ham</td>\n",
       "      <td>U dun say so early hor... U c already then say...</td>\n",
       "    </tr>\n",
       "    <tr>\n",
       "      <th>4</th>\n",
       "      <td>ham</td>\n",
       "      <td>Nah I don't think he goes to usf, he lives aro...</td>\n",
       "    </tr>\n",
       "  </tbody>\n",
       "</table>\n",
       "</div>"
      ],
      "text/plain": [
       "  label                                            message\n",
       "0   ham  Go until jurong point, crazy.. Available only ...\n",
       "1   ham                      Ok lar... Joking wif u oni...\n",
       "2  spam  Free entry in 2 a wkly comp to win FA Cup fina...\n",
       "3   ham  U dun say so early hor... U c already then say...\n",
       "4   ham  Nah I don't think he goes to usf, he lives aro..."
      ]
     },
     "execution_count": 10,
     "metadata": {},
     "output_type": "execute_result"
    }
   ],
   "source": [
    "sms.dropna(how='any', inplace=True, axis=1)  #use 'sms_clean =' and change in-place to False, if you plan to use 'sms' later,\n",
    "sms.columns=['label', 'message']\n",
    "sms.head()"
   ]
  },
  {
   "cell_type": "code",
   "execution_count": 11,
   "id": "31f337d3",
   "metadata": {
    "execution": {
     "iopub.execute_input": "2023-02-21T19:38:38.733304Z",
     "iopub.status.busy": "2023-02-21T19:38:38.732974Z",
     "iopub.status.idle": "2023-02-21T19:38:38.743327Z",
     "shell.execute_reply": "2023-02-21T19:38:38.742487Z"
    },
    "papermill": {
     "duration": 0.029289,
     "end_time": "2023-02-21T19:38:38.745192",
     "exception": false,
     "start_time": "2023-02-21T19:38:38.715903",
     "status": "completed"
    },
    "tags": []
   },
   "outputs": [
    {
     "name": "stdout",
     "output_type": "stream",
     "text": [
      "<class 'pandas.core.frame.DataFrame'>\n",
      "RangeIndex: 5572 entries, 0 to 5571\n",
      "Data columns (total 2 columns):\n",
      " #   Column   Non-Null Count  Dtype \n",
      "---  ------   --------------  ----- \n",
      " 0   label    5572 non-null   object\n",
      " 1   message  5572 non-null   object\n",
      "dtypes: object(2)\n",
      "memory usage: 87.2+ KB\n"
     ]
    }
   ],
   "source": [
    "sms.info()"
   ]
  },
  {
   "cell_type": "code",
   "execution_count": 12,
   "id": "ac86feb0",
   "metadata": {
    "execution": {
     "iopub.execute_input": "2023-02-21T19:38:38.809935Z",
     "iopub.status.busy": "2023-02-21T19:38:38.809574Z",
     "iopub.status.idle": "2023-02-21T19:38:38.818925Z",
     "shell.execute_reply": "2023-02-21T19:38:38.817683Z"
    },
    "papermill": {
     "duration": 0.03158,
     "end_time": "2023-02-21T19:38:38.823682",
     "exception": false,
     "start_time": "2023-02-21T19:38:38.792102",
     "status": "completed"
    },
    "tags": []
   },
   "outputs": [
    {
     "name": "stdout",
     "output_type": "stream",
     "text": [
      "Before Modification:\n",
      "\n"
     ]
    },
    {
     "data": {
      "text/html": [
       "<div>\n",
       "<style scoped>\n",
       "    .dataframe tbody tr th:only-of-type {\n",
       "        vertical-align: middle;\n",
       "    }\n",
       "\n",
       "    .dataframe tbody tr th {\n",
       "        vertical-align: top;\n",
       "    }\n",
       "\n",
       "    .dataframe thead th {\n",
       "        text-align: right;\n",
       "    }\n",
       "</style>\n",
       "<table border=\"1\" class=\"dataframe\">\n",
       "  <thead>\n",
       "    <tr style=\"text-align: right;\">\n",
       "      <th></th>\n",
       "      <th>label</th>\n",
       "      <th>message</th>\n",
       "    </tr>\n",
       "  </thead>\n",
       "  <tbody>\n",
       "    <tr>\n",
       "      <th>0</th>\n",
       "      <td>ham</td>\n",
       "      <td>Go until jurong point, crazy.. Available only ...</td>\n",
       "    </tr>\n",
       "    <tr>\n",
       "      <th>1</th>\n",
       "      <td>ham</td>\n",
       "      <td>Ok lar... Joking wif u oni...</td>\n",
       "    </tr>\n",
       "    <tr>\n",
       "      <th>2</th>\n",
       "      <td>spam</td>\n",
       "      <td>Free entry in 2 a wkly comp to win FA Cup fina...</td>\n",
       "    </tr>\n",
       "    <tr>\n",
       "      <th>3</th>\n",
       "      <td>ham</td>\n",
       "      <td>U dun say so early hor... U c already then say...</td>\n",
       "    </tr>\n",
       "    <tr>\n",
       "      <th>4</th>\n",
       "      <td>ham</td>\n",
       "      <td>Nah I don't think he goes to usf, he lives aro...</td>\n",
       "    </tr>\n",
       "  </tbody>\n",
       "</table>\n",
       "</div>"
      ],
      "text/plain": [
       "  label                                            message\n",
       "0   ham  Go until jurong point, crazy.. Available only ...\n",
       "1   ham                      Ok lar... Joking wif u oni...\n",
       "2  spam  Free entry in 2 a wkly comp to win FA Cup fina...\n",
       "3   ham  U dun say so early hor... U c already then say...\n",
       "4   ham  Nah I don't think he goes to usf, he lives aro..."
      ]
     },
     "execution_count": 12,
     "metadata": {},
     "output_type": "execute_result"
    }
   ],
   "source": [
    "print(\"Before Modification:\\n\") \n",
    "sms.head()"
   ]
  },
  {
   "cell_type": "code",
   "execution_count": 13,
   "id": "0b70e0ad",
   "metadata": {
    "execution": {
     "iopub.execute_input": "2023-02-21T19:38:38.858791Z",
     "iopub.status.busy": "2023-02-21T19:38:38.858139Z",
     "iopub.status.idle": "2023-02-21T19:38:38.870331Z",
     "shell.execute_reply": "2023-02-21T19:38:38.869357Z"
    },
    "papermill": {
     "duration": 0.032081,
     "end_time": "2023-02-21T19:38:38.872785",
     "exception": false,
     "start_time": "2023-02-21T19:38:38.840704",
     "status": "completed"
    },
    "tags": []
   },
   "outputs": [
    {
     "name": "stdout",
     "output_type": "stream",
     "text": [
      "After Modification:\n",
      "\n"
     ]
    },
    {
     "data": {
      "text/html": [
       "<div>\n",
       "<style scoped>\n",
       "    .dataframe tbody tr th:only-of-type {\n",
       "        vertical-align: middle;\n",
       "    }\n",
       "\n",
       "    .dataframe tbody tr th {\n",
       "        vertical-align: top;\n",
       "    }\n",
       "\n",
       "    .dataframe thead th {\n",
       "        text-align: right;\n",
       "    }\n",
       "</style>\n",
       "<table border=\"1\" class=\"dataframe\">\n",
       "  <thead>\n",
       "    <tr style=\"text-align: right;\">\n",
       "      <th></th>\n",
       "      <th>label</th>\n",
       "      <th>message</th>\n",
       "      <th>label_num</th>\n",
       "    </tr>\n",
       "  </thead>\n",
       "  <tbody>\n",
       "    <tr>\n",
       "      <th>0</th>\n",
       "      <td>ham</td>\n",
       "      <td>Go until jurong point, crazy.. Available only ...</td>\n",
       "      <td>0</td>\n",
       "    </tr>\n",
       "    <tr>\n",
       "      <th>1</th>\n",
       "      <td>ham</td>\n",
       "      <td>Ok lar... Joking wif u oni...</td>\n",
       "      <td>0</td>\n",
       "    </tr>\n",
       "    <tr>\n",
       "      <th>2</th>\n",
       "      <td>spam</td>\n",
       "      <td>Free entry in 2 a wkly comp to win FA Cup fina...</td>\n",
       "      <td>1</td>\n",
       "    </tr>\n",
       "    <tr>\n",
       "      <th>3</th>\n",
       "      <td>ham</td>\n",
       "      <td>U dun say so early hor... U c already then say...</td>\n",
       "      <td>0</td>\n",
       "    </tr>\n",
       "    <tr>\n",
       "      <th>4</th>\n",
       "      <td>ham</td>\n",
       "      <td>Nah I don't think he goes to usf, he lives aro...</td>\n",
       "      <td>0</td>\n",
       "    </tr>\n",
       "  </tbody>\n",
       "</table>\n",
       "</div>"
      ],
      "text/plain": [
       "  label                                            message  label_num\n",
       "0   ham  Go until jurong point, crazy.. Available only ...          0\n",
       "1   ham                      Ok lar... Joking wif u oni...          0\n",
       "2  spam  Free entry in 2 a wkly comp to win FA Cup fina...          1\n",
       "3   ham  U dun say so early hor... U c already then say...          0\n",
       "4   ham  Nah I don't think he goes to usf, he lives aro...          0"
      ]
     },
     "execution_count": 13,
     "metadata": {},
     "output_type": "execute_result"
    }
   ],
   "source": [
    "sms['label_num'] = sms.label.map({'ham':0, 'spam':1})  \n",
    "print(\"After Modification:\\n\") \n",
    "sms.head()"
   ]
  },
  {
   "cell_type": "code",
   "execution_count": 14,
   "id": "0646397a",
   "metadata": {
    "execution": {
     "iopub.execute_input": "2023-02-21T19:38:38.938894Z",
     "iopub.status.busy": "2023-02-21T19:38:38.938500Z",
     "iopub.status.idle": "2023-02-21T19:38:38.948080Z",
     "shell.execute_reply": "2023-02-21T19:38:38.947412Z"
    },
    "papermill": {
     "duration": 0.029855,
     "end_time": "2023-02-21T19:38:38.950409",
     "exception": false,
     "start_time": "2023-02-21T19:38:38.920554",
     "status": "completed"
    },
    "tags": []
   },
   "outputs": [
    {
     "name": "stdout",
     "output_type": "stream",
     "text": [
      "Before Modification:\n",
      "\n"
     ]
    },
    {
     "data": {
      "text/html": [
       "<div>\n",
       "<style scoped>\n",
       "    .dataframe tbody tr th:only-of-type {\n",
       "        vertical-align: middle;\n",
       "    }\n",
       "\n",
       "    .dataframe tbody tr th {\n",
       "        vertical-align: top;\n",
       "    }\n",
       "\n",
       "    .dataframe thead th {\n",
       "        text-align: right;\n",
       "    }\n",
       "</style>\n",
       "<table border=\"1\" class=\"dataframe\">\n",
       "  <thead>\n",
       "    <tr style=\"text-align: right;\">\n",
       "      <th></th>\n",
       "      <th>label</th>\n",
       "      <th>message</th>\n",
       "      <th>label_num</th>\n",
       "    </tr>\n",
       "  </thead>\n",
       "  <tbody>\n",
       "    <tr>\n",
       "      <th>0</th>\n",
       "      <td>ham</td>\n",
       "      <td>Go until jurong point, crazy.. Available only ...</td>\n",
       "      <td>0</td>\n",
       "    </tr>\n",
       "    <tr>\n",
       "      <th>1</th>\n",
       "      <td>ham</td>\n",
       "      <td>Ok lar... Joking wif u oni...</td>\n",
       "      <td>0</td>\n",
       "    </tr>\n",
       "    <tr>\n",
       "      <th>2</th>\n",
       "      <td>spam</td>\n",
       "      <td>Free entry in 2 a wkly comp to win FA Cup fina...</td>\n",
       "      <td>1</td>\n",
       "    </tr>\n",
       "    <tr>\n",
       "      <th>3</th>\n",
       "      <td>ham</td>\n",
       "      <td>U dun say so early hor... U c already then say...</td>\n",
       "      <td>0</td>\n",
       "    </tr>\n",
       "    <tr>\n",
       "      <th>4</th>\n",
       "      <td>ham</td>\n",
       "      <td>Nah I don't think he goes to usf, he lives aro...</td>\n",
       "      <td>0</td>\n",
       "    </tr>\n",
       "  </tbody>\n",
       "</table>\n",
       "</div>"
      ],
      "text/plain": [
       "  label                                            message  label_num\n",
       "0   ham  Go until jurong point, crazy.. Available only ...          0\n",
       "1   ham                      Ok lar... Joking wif u oni...          0\n",
       "2  spam  Free entry in 2 a wkly comp to win FA Cup fina...          1\n",
       "3   ham  U dun say so early hor... U c already then say...          0\n",
       "4   ham  Nah I don't think he goes to usf, he lives aro...          0"
      ]
     },
     "execution_count": 14,
     "metadata": {},
     "output_type": "execute_result"
    }
   ],
   "source": [
    "print(\"Before Modification:\\n\") \n",
    "sms.head()"
   ]
  },
  {
   "cell_type": "code",
   "execution_count": 15,
   "id": "d644783e",
   "metadata": {
    "execution": {
     "iopub.execute_input": "2023-02-21T19:38:38.985367Z",
     "iopub.status.busy": "2023-02-21T19:38:38.985006Z",
     "iopub.status.idle": "2023-02-21T19:38:38.998083Z",
     "shell.execute_reply": "2023-02-21T19:38:38.997250Z"
    },
    "papermill": {
     "duration": 0.033082,
     "end_time": "2023-02-21T19:38:39.000340",
     "exception": false,
     "start_time": "2023-02-21T19:38:38.967258",
     "status": "completed"
    },
    "tags": []
   },
   "outputs": [
    {
     "name": "stdout",
     "output_type": "stream",
     "text": [
      "After Modification:\n",
      "\n"
     ]
    },
    {
     "data": {
      "text/html": [
       "<div>\n",
       "<style scoped>\n",
       "    .dataframe tbody tr th:only-of-type {\n",
       "        vertical-align: middle;\n",
       "    }\n",
       "\n",
       "    .dataframe tbody tr th {\n",
       "        vertical-align: top;\n",
       "    }\n",
       "\n",
       "    .dataframe thead th {\n",
       "        text-align: right;\n",
       "    }\n",
       "</style>\n",
       "<table border=\"1\" class=\"dataframe\">\n",
       "  <thead>\n",
       "    <tr style=\"text-align: right;\">\n",
       "      <th></th>\n",
       "      <th>label</th>\n",
       "      <th>message</th>\n",
       "      <th>label_num</th>\n",
       "      <th>message_len</th>\n",
       "    </tr>\n",
       "  </thead>\n",
       "  <tbody>\n",
       "    <tr>\n",
       "      <th>0</th>\n",
       "      <td>ham</td>\n",
       "      <td>Go until jurong point, crazy.. Available only ...</td>\n",
       "      <td>0</td>\n",
       "      <td>111</td>\n",
       "    </tr>\n",
       "    <tr>\n",
       "      <th>1</th>\n",
       "      <td>ham</td>\n",
       "      <td>Ok lar... Joking wif u oni...</td>\n",
       "      <td>0</td>\n",
       "      <td>29</td>\n",
       "    </tr>\n",
       "    <tr>\n",
       "      <th>2</th>\n",
       "      <td>spam</td>\n",
       "      <td>Free entry in 2 a wkly comp to win FA Cup fina...</td>\n",
       "      <td>1</td>\n",
       "      <td>155</td>\n",
       "    </tr>\n",
       "    <tr>\n",
       "      <th>3</th>\n",
       "      <td>ham</td>\n",
       "      <td>U dun say so early hor... U c already then say...</td>\n",
       "      <td>0</td>\n",
       "      <td>49</td>\n",
       "    </tr>\n",
       "    <tr>\n",
       "      <th>4</th>\n",
       "      <td>ham</td>\n",
       "      <td>Nah I don't think he goes to usf, he lives aro...</td>\n",
       "      <td>0</td>\n",
       "      <td>61</td>\n",
       "    </tr>\n",
       "  </tbody>\n",
       "</table>\n",
       "</div>"
      ],
      "text/plain": [
       "  label                                            message  label_num  \\\n",
       "0   ham  Go until jurong point, crazy.. Available only ...          0   \n",
       "1   ham                      Ok lar... Joking wif u oni...          0   \n",
       "2  spam  Free entry in 2 a wkly comp to win FA Cup fina...          1   \n",
       "3   ham  U dun say so early hor... U c already then say...          0   \n",
       "4   ham  Nah I don't think he goes to usf, he lives aro...          0   \n",
       "\n",
       "   message_len  \n",
       "0          111  \n",
       "1           29  \n",
       "2          155  \n",
       "3           49  \n",
       "4           61  "
      ]
     },
     "execution_count": 15,
     "metadata": {},
     "output_type": "execute_result"
    }
   ],
   "source": [
    "sms['message_len'] = sms.message.apply(len)   \n",
    "print(\"After Modification:\\n\") \n",
    "sms.head()"
   ]
  },
  {
   "cell_type": "code",
   "execution_count": 16,
   "id": "92416edd",
   "metadata": {
    "execution": {
     "iopub.execute_input": "2023-02-21T19:38:39.067721Z",
     "iopub.status.busy": "2023-02-21T19:38:39.066931Z",
     "iopub.status.idle": "2023-02-21T19:38:40.439129Z",
     "shell.execute_reply": "2023-02-21T19:38:40.437761Z"
    },
    "papermill": {
     "duration": 1.392008,
     "end_time": "2023-02-21T19:38:40.441516",
     "exception": false,
     "start_time": "2023-02-21T19:38:39.049508",
     "status": "completed"
    },
    "tags": []
   },
   "outputs": [
    {
     "data": {
      "text/plain": [
       "Text(0.5, 0, 'Message Length')"
      ]
     },
     "execution_count": 16,
     "metadata": {},
     "output_type": "execute_result"
    },
    {
     "data": {
      "image/png": "[encoded data removed]",
      "text/plain": [
       "<Figure size 1200x800 with 1 Axes>"
      ]
     },
     "metadata": {},
     "output_type": "display_data"
    }
   ],
   "source": [
    "import matplotlib.pyplot as plt\n",
    "import seaborn as sns              \n",
    "\n",
    "sns.set_style('whitegrid')          \n",
    "plt.style.use('fivethirtyeight')   \n",
    "plt.figure(figsize=(12,8))        \n",
    "\n",
    "sms[sms.label=='ham'].message_len.plot(bins=35, kind='hist', color='blue', label='Ham Messages', alpha=0.5)\n",
    "sms[sms.label=='spam'].message_len.plot(kind='hist', color='red', label='Spam Messages', alpha=0.5)\n",
    "\n",
    "plt.legend()\n",
    "plt.xlabel(\"Message Length\")"
   ]
  },
  {
   "cell_type": "code",
   "execution_count": 17,
   "id": "90ba9b16",
   "metadata": {
    "execution": {
     "iopub.execute_input": "2023-02-21T19:38:40.545300Z",
     "iopub.status.busy": "2023-02-21T19:38:40.544747Z",
     "iopub.status.idle": "2023-02-21T19:38:40.561362Z",
     "shell.execute_reply": "2023-02-21T19:38:40.560257Z"
    },
    "papermill": {
     "duration": 0.036097,
     "end_time": "2023-02-21T19:38:40.563134",
     "exception": false,
     "start_time": "2023-02-21T19:38:40.527037",
     "status": "completed"
    },
    "tags": []
   },
   "outputs": [
    {
     "data": {
      "text/html": [
       "<div>\n",
       "<style scoped>\n",
       "    .dataframe tbody tr th:only-of-type {\n",
       "        vertical-align: middle;\n",
       "    }\n",
       "\n",
       "    .dataframe tbody tr th {\n",
       "        vertical-align: top;\n",
       "    }\n",
       "\n",
       "    .dataframe thead th {\n",
       "        text-align: right;\n",
       "    }\n",
       "</style>\n",
       "<table border=\"1\" class=\"dataframe\">\n",
       "  <thead>\n",
       "    <tr style=\"text-align: right;\">\n",
       "      <th></th>\n",
       "      <th>label_num</th>\n",
       "      <th>message_len</th>\n",
       "    </tr>\n",
       "  </thead>\n",
       "  <tbody>\n",
       "    <tr>\n",
       "      <th>count</th>\n",
       "      <td>5572.000000</td>\n",
       "      <td>5572.000000</td>\n",
       "    </tr>\n",
       "    <tr>\n",
       "      <th>mean</th>\n",
       "      <td>0.134063</td>\n",
       "      <td>80.118808</td>\n",
       "    </tr>\n",
       "    <tr>\n",
       "      <th>std</th>\n",
       "      <td>0.340751</td>\n",
       "      <td>59.690841</td>\n",
       "    </tr>\n",
       "    <tr>\n",
       "      <th>min</th>\n",
       "      <td>0.000000</td>\n",
       "      <td>2.000000</td>\n",
       "    </tr>\n",
       "    <tr>\n",
       "      <th>25%</th>\n",
       "      <td>0.000000</td>\n",
       "      <td>36.000000</td>\n",
       "    </tr>\n",
       "    <tr>\n",
       "      <th>50%</th>\n",
       "      <td>0.000000</td>\n",
       "      <td>61.000000</td>\n",
       "    </tr>\n",
       "    <tr>\n",
       "      <th>75%</th>\n",
       "      <td>0.000000</td>\n",
       "      <td>121.000000</td>\n",
       "    </tr>\n",
       "    <tr>\n",
       "      <th>max</th>\n",
       "      <td>1.000000</td>\n",
       "      <td>910.000000</td>\n",
       "    </tr>\n",
       "  </tbody>\n",
       "</table>\n",
       "</div>"
      ],
      "text/plain": [
       "         label_num  message_len\n",
       "count  5572.000000  5572.000000\n",
       "mean      0.134063    80.118808\n",
       "std       0.340751    59.690841\n",
       "min       0.000000     2.000000\n",
       "25%       0.000000    36.000000\n",
       "50%       0.000000    61.000000\n",
       "75%       0.000000   121.000000\n",
       "max       1.000000   910.000000"
      ]
     },
     "execution_count": 17,
     "metadata": {},
     "output_type": "execute_result"
    }
   ],
   "source": [
    "sms.describe()"
   ]
  },
  {
   "cell_type": "code",
   "execution_count": 18,
   "id": "0213b2b6",
   "metadata": {
    "execution": {
     "iopub.execute_input": "2023-02-21T19:38:40.668022Z",
     "iopub.status.busy": "2023-02-21T19:38:40.667368Z",
     "iopub.status.idle": "2023-02-21T19:38:40.683331Z",
     "shell.execute_reply": "2023-02-21T19:38:40.682466Z"
    },
    "papermill": {
     "duration": 0.036493,
     "end_time": "2023-02-21T19:38:40.684998",
     "exception": false,
     "start_time": "2023-02-21T19:38:40.648505",
     "status": "completed"
    },
    "tags": []
   },
   "outputs": [
    {
     "data": {
      "text/html": [
       "<div>\n",
       "<style scoped>\n",
       "    .dataframe tbody tr th:only-of-type {\n",
       "        vertical-align: middle;\n",
       "    }\n",
       "\n",
       "    .dataframe tbody tr th {\n",
       "        vertical-align: top;\n",
       "    }\n",
       "\n",
       "    .dataframe thead th {\n",
       "        text-align: right;\n",
       "    }\n",
       "</style>\n",
       "<table border=\"1\" class=\"dataframe\">\n",
       "  <thead>\n",
       "    <tr style=\"text-align: right;\">\n",
       "      <th></th>\n",
       "      <th>label_num</th>\n",
       "      <th>message_len</th>\n",
       "    </tr>\n",
       "  </thead>\n",
       "  <tbody>\n",
       "    <tr>\n",
       "      <th>count</th>\n",
       "      <td>4825.0</td>\n",
       "      <td>4825.000000</td>\n",
       "    </tr>\n",
       "    <tr>\n",
       "      <th>mean</th>\n",
       "      <td>0.0</td>\n",
       "      <td>71.023627</td>\n",
       "    </tr>\n",
       "    <tr>\n",
       "      <th>std</th>\n",
       "      <td>0.0</td>\n",
       "      <td>58.016023</td>\n",
       "    </tr>\n",
       "    <tr>\n",
       "      <th>min</th>\n",
       "      <td>0.0</td>\n",
       "      <td>2.000000</td>\n",
       "    </tr>\n",
       "    <tr>\n",
       "      <th>25%</th>\n",
       "      <td>0.0</td>\n",
       "      <td>33.000000</td>\n",
       "    </tr>\n",
       "    <tr>\n",
       "      <th>50%</th>\n",
       "      <td>0.0</td>\n",
       "      <td>52.000000</td>\n",
       "    </tr>\n",
       "    <tr>\n",
       "      <th>75%</th>\n",
       "      <td>0.0</td>\n",
       "      <td>92.000000</td>\n",
       "    </tr>\n",
       "    <tr>\n",
       "      <th>max</th>\n",
       "      <td>0.0</td>\n",
       "      <td>910.000000</td>\n",
       "    </tr>\n",
       "  </tbody>\n",
       "</table>\n",
       "</div>"
      ],
      "text/plain": [
       "       label_num  message_len\n",
       "count     4825.0  4825.000000\n",
       "mean         0.0    71.023627\n",
       "std          0.0    58.016023\n",
       "min          0.0     2.000000\n",
       "25%          0.0    33.000000\n",
       "50%          0.0    52.000000\n",
       "75%          0.0    92.000000\n",
       "max          0.0   910.000000"
      ]
     },
     "execution_count": 18,
     "metadata": {},
     "output_type": "execute_result"
    }
   ],
   "source": [
    "sms[sms.label=='ham'].describe()"
   ]
  },
  {
   "cell_type": "code",
   "execution_count": 19,
   "id": "a44a1c33",
   "metadata": {
    "execution": {
     "iopub.execute_input": "2023-02-21T19:38:40.756839Z",
     "iopub.status.busy": "2023-02-21T19:38:40.756477Z",
     "iopub.status.idle": "2023-02-21T19:38:40.771641Z",
     "shell.execute_reply": "2023-02-21T19:38:40.770909Z"
    },
    "papermill": {
     "duration": 0.03591,
     "end_time": "2023-02-21T19:38:40.773393",
     "exception": false,
     "start_time": "2023-02-21T19:38:40.737483",
     "status": "completed"
    },
    "tags": []
   },
   "outputs": [
    {
     "data": {
      "text/html": [
       "<div>\n",
       "<style scoped>\n",
       "    .dataframe tbody tr th:only-of-type {\n",
       "        vertical-align: middle;\n",
       "    }\n",
       "\n",
       "    .dataframe tbody tr th {\n",
       "        vertical-align: top;\n",
       "    }\n",
       "\n",
       "    .dataframe thead th {\n",
       "        text-align: right;\n",
       "    }\n",
       "</style>\n",
       "<table border=\"1\" class=\"dataframe\">\n",
       "  <thead>\n",
       "    <tr style=\"text-align: right;\">\n",
       "      <th></th>\n",
       "      <th>label_num</th>\n",
       "      <th>message_len</th>\n",
       "    </tr>\n",
       "  </thead>\n",
       "  <tbody>\n",
       "    <tr>\n",
       "      <th>count</th>\n",
       "      <td>747.0</td>\n",
       "      <td>747.000000</td>\n",
       "    </tr>\n",
       "    <tr>\n",
       "      <th>mean</th>\n",
       "      <td>1.0</td>\n",
       "      <td>138.866131</td>\n",
       "    </tr>\n",
       "    <tr>\n",
       "      <th>std</th>\n",
       "      <td>0.0</td>\n",
       "      <td>29.183082</td>\n",
       "    </tr>\n",
       "    <tr>\n",
       "      <th>min</th>\n",
       "      <td>1.0</td>\n",
       "      <td>13.000000</td>\n",
       "    </tr>\n",
       "    <tr>\n",
       "      <th>25%</th>\n",
       "      <td>1.0</td>\n",
       "      <td>132.500000</td>\n",
       "    </tr>\n",
       "    <tr>\n",
       "      <th>50%</th>\n",
       "      <td>1.0</td>\n",
       "      <td>149.000000</td>\n",
       "    </tr>\n",
       "    <tr>\n",
       "      <th>75%</th>\n",
       "      <td>1.0</td>\n",
       "      <td>157.000000</td>\n",
       "    </tr>\n",
       "    <tr>\n",
       "      <th>max</th>\n",
       "      <td>1.0</td>\n",
       "      <td>224.000000</td>\n",
       "    </tr>\n",
       "  </tbody>\n",
       "</table>\n",
       "</div>"
      ],
      "text/plain": [
       "       label_num  message_len\n",
       "count      747.0   747.000000\n",
       "mean         1.0   138.866131\n",
       "std          0.0    29.183082\n",
       "min          1.0    13.000000\n",
       "25%          1.0   132.500000\n",
       "50%          1.0   149.000000\n",
       "75%          1.0   157.000000\n",
       "max          1.0   224.000000"
      ]
     },
     "execution_count": 19,
     "metadata": {},
     "output_type": "execute_result"
    }
   ],
   "source": [
    "sms[sms.label=='spam'].describe()"
   ]
  },
  {
   "cell_type": "code",
   "execution_count": 20,
   "id": "cde069ea",
   "metadata": {
    "execution": {
     "iopub.execute_input": "2023-02-21T19:38:40.917128Z",
     "iopub.status.busy": "2023-02-21T19:38:40.916183Z",
     "iopub.status.idle": "2023-02-21T19:38:41.651929Z",
     "shell.execute_reply": "2023-02-21T19:38:41.651009Z"
    },
    "papermill": {
     "duration": 0.757598,
     "end_time": "2023-02-21T19:38:41.654170",
     "exception": false,
     "start_time": "2023-02-21T19:38:40.896572",
     "status": "completed"
    },
    "tags": []
   },
   "outputs": [],
   "source": [
    "def temp_process(msg):\n",
    "    \n",
    "    STOPWORDS = stopwords.words('english')                             \n",
    "    nopunc = [char for char in msg if char not in string.punctuation] \n",
    "    nopunc = ''.join(nopunc)                                              \n",
    "    nopunc = ' '.join([word for word in nopunc.split() if word.lower() not in STOPWORDS])    \n",
    "    return nopunc"
   ]
  },
  {
   "cell_type": "code",
   "execution_count": 21,
   "id": "64c98822",
   "metadata": {
    "execution": {
     "iopub.execute_input": "2023-02-21T19:38:41.769246Z",
     "iopub.status.busy": "2023-02-21T19:38:41.768910Z",
     "iopub.status.idle": "2023-02-21T19:38:41.780585Z",
     "shell.execute_reply": "2023-02-21T19:38:41.779484Z"
    },
    "papermill": {
     "duration": 0.032196,
     "end_time": "2023-02-21T19:38:41.782500",
     "exception": false,
     "start_time": "2023-02-21T19:38:41.750304",
     "status": "completed"
    },
    "tags": []
   },
   "outputs": [
    {
     "name": "stdout",
     "output_type": "stream",
     "text": [
      "Before Modification:\n",
      "\n"
     ]
    },
    {
     "data": {
      "text/html": [
       "<div>\n",
       "<style scoped>\n",
       "    .dataframe tbody tr th:only-of-type {\n",
       "        vertical-align: middle;\n",
       "    }\n",
       "\n",
       "    .dataframe tbody tr th {\n",
       "        vertical-align: top;\n",
       "    }\n",
       "\n",
       "    .dataframe thead th {\n",
       "        text-align: right;\n",
       "    }\n",
       "</style>\n",
       "<table border=\"1\" class=\"dataframe\">\n",
       "  <thead>\n",
       "    <tr style=\"text-align: right;\">\n",
       "      <th></th>\n",
       "      <th>label</th>\n",
       "      <th>message</th>\n",
       "      <th>label_num</th>\n",
       "      <th>message_len</th>\n",
       "    </tr>\n",
       "  </thead>\n",
       "  <tbody>\n",
       "    <tr>\n",
       "      <th>0</th>\n",
       "      <td>ham</td>\n",
       "      <td>Go until jurong point, crazy.. Available only ...</td>\n",
       "      <td>0</td>\n",
       "      <td>111</td>\n",
       "    </tr>\n",
       "    <tr>\n",
       "      <th>1</th>\n",
       "      <td>ham</td>\n",
       "      <td>Ok lar... Joking wif u oni...</td>\n",
       "      <td>0</td>\n",
       "      <td>29</td>\n",
       "    </tr>\n",
       "    <tr>\n",
       "      <th>2</th>\n",
       "      <td>spam</td>\n",
       "      <td>Free entry in 2 a wkly comp to win FA Cup fina...</td>\n",
       "      <td>1</td>\n",
       "      <td>155</td>\n",
       "    </tr>\n",
       "    <tr>\n",
       "      <th>3</th>\n",
       "      <td>ham</td>\n",
       "      <td>U dun say so early hor... U c already then say...</td>\n",
       "      <td>0</td>\n",
       "      <td>49</td>\n",
       "    </tr>\n",
       "    <tr>\n",
       "      <th>4</th>\n",
       "      <td>ham</td>\n",
       "      <td>Nah I don't think he goes to usf, he lives aro...</td>\n",
       "      <td>0</td>\n",
       "      <td>61</td>\n",
       "    </tr>\n",
       "  </tbody>\n",
       "</table>\n",
       "</div>"
      ],
      "text/plain": [
       "  label                                            message  label_num  \\\n",
       "0   ham  Go until jurong point, crazy.. Available only ...          0   \n",
       "1   ham                      Ok lar... Joking wif u oni...          0   \n",
       "2  spam  Free entry in 2 a wkly comp to win FA Cup fina...          1   \n",
       "3   ham  U dun say so early hor... U c already then say...          0   \n",
       "4   ham  Nah I don't think he goes to usf, he lives aro...          0   \n",
       "\n",
       "   message_len  \n",
       "0          111  \n",
       "1           29  \n",
       "2          155  \n",
       "3           49  \n",
       "4           61  "
      ]
     },
     "execution_count": 21,
     "metadata": {},
     "output_type": "execute_result"
    }
   ],
   "source": [
    "print(\"Before Modification:\\n\") \n",
    "sms.head()"
   ]
  },
  {
   "cell_type": "code",
   "execution_count": 22,
   "id": "d6ed18b1",
   "metadata": {
    "execution": {
     "iopub.execute_input": "2023-02-21T19:38:41.819920Z",
     "iopub.status.busy": "2023-02-21T19:38:41.819224Z",
     "iopub.status.idle": "2023-02-21T19:38:42.680589Z",
     "shell.execute_reply": "2023-02-21T19:38:42.678974Z"
    },
    "papermill": {
     "duration": 0.882865,
     "end_time": "2023-02-21T19:38:42.682573",
     "exception": false,
     "start_time": "2023-02-21T19:38:41.799708",
     "status": "completed"
    },
    "tags": []
   },
   "outputs": [
    {
     "name": "stdout",
     "output_type": "stream",
     "text": [
      "After Modification:\n",
      "\n"
     ]
    },
    {
     "data": {
      "text/html": [
       "<div>\n",
       "<style scoped>\n",
       "    .dataframe tbody tr th:only-of-type {\n",
       "        vertical-align: middle;\n",
       "    }\n",
       "\n",
       "    .dataframe tbody tr th {\n",
       "        vertical-align: top;\n",
       "    }\n",
       "\n",
       "    .dataframe thead th {\n",
       "        text-align: right;\n",
       "    }\n",
       "</style>\n",
       "<table border=\"1\" class=\"dataframe\">\n",
       "  <thead>\n",
       "    <tr style=\"text-align: right;\">\n",
       "      <th></th>\n",
       "      <th>label</th>\n",
       "      <th>message</th>\n",
       "      <th>label_num</th>\n",
       "      <th>message_len</th>\n",
       "      <th>clean_msg</th>\n",
       "    </tr>\n",
       "  </thead>\n",
       "  <tbody>\n",
       "    <tr>\n",
       "      <th>0</th>\n",
       "      <td>ham</td>\n",
       "      <td>Go until jurong point, crazy.. Available only ...</td>\n",
       "      <td>0</td>\n",
       "      <td>111</td>\n",
       "      <td>Go jurong point crazy Available bugis n great ...</td>\n",
       "    </tr>\n",
       "    <tr>\n",
       "      <th>1</th>\n",
       "      <td>ham</td>\n",
       "      <td>Ok lar... Joking wif u oni...</td>\n",
       "      <td>0</td>\n",
       "      <td>29</td>\n",
       "      <td>Ok lar Joking wif u oni</td>\n",
       "    </tr>\n",
       "    <tr>\n",
       "      <th>2</th>\n",
       "      <td>spam</td>\n",
       "      <td>Free entry in 2 a wkly comp to win FA Cup fina...</td>\n",
       "      <td>1</td>\n",
       "      <td>155</td>\n",
       "      <td>Free entry 2 wkly comp win FA Cup final tkts 2...</td>\n",
       "    </tr>\n",
       "    <tr>\n",
       "      <th>3</th>\n",
       "      <td>ham</td>\n",
       "      <td>U dun say so early hor... U c already then say...</td>\n",
       "      <td>0</td>\n",
       "      <td>49</td>\n",
       "      <td>U dun say early hor U c already say</td>\n",
       "    </tr>\n",
       "    <tr>\n",
       "      <th>4</th>\n",
       "      <td>ham</td>\n",
       "      <td>Nah I don't think he goes to usf, he lives aro...</td>\n",
       "      <td>0</td>\n",
       "      <td>61</td>\n",
       "      <td>Nah dont think goes usf lives around though</td>\n",
       "    </tr>\n",
       "  </tbody>\n",
       "</table>\n",
       "</div>"
      ],
      "text/plain": [
       "  label                                            message  label_num  \\\n",
       "0   ham  Go until jurong point, crazy.. Available only ...          0   \n",
       "1   ham                      Ok lar... Joking wif u oni...          0   \n",
       "2  spam  Free entry in 2 a wkly comp to win FA Cup fina...          1   \n",
       "3   ham  U dun say so early hor... U c already then say...          0   \n",
       "4   ham  Nah I don't think he goes to usf, he lives aro...          0   \n",
       "\n",
       "   message_len                                          clean_msg  \n",
       "0          111  Go jurong point crazy Available bugis n great ...  \n",
       "1           29                            Ok lar Joking wif u oni  \n",
       "2          155  Free entry 2 wkly comp win FA Cup final tkts 2...  \n",
       "3           49                U dun say early hor U c already say  \n",
       "4           61        Nah dont think goes usf lives around though  "
      ]
     },
     "execution_count": 22,
     "metadata": {},
     "output_type": "execute_result"
    }
   ],
   "source": [
    "sms['clean_msg'] = sms.message.apply(temp_process)   \n",
    "print(\"After Modification:\\n\") \n",
    "sms.head()"
   ]
  },
  {
   "cell_type": "code",
   "execution_count": 23,
   "id": "f15d7700",
   "metadata": {
    "execution": {
     "iopub.execute_input": "2023-02-21T19:38:42.757866Z",
     "iopub.status.busy": "2023-02-21T19:38:42.757503Z",
     "iopub.status.idle": "2023-02-21T19:38:42.780517Z",
     "shell.execute_reply": "2023-02-21T19:38:42.779514Z"
    },
    "papermill": {
     "duration": 0.045563,
     "end_time": "2023-02-21T19:38:42.782382",
     "exception": false,
     "start_time": "2023-02-21T19:38:42.736819",
     "status": "completed"
    },
    "tags": []
   },
   "outputs": [
    {
     "data": {
      "text/plain": [
       "['go',\n",
       " 'jurong',\n",
       " 'point',\n",
       " 'crazy',\n",
       " 'available',\n",
       " 'bugis',\n",
       " 'n',\n",
       " 'great',\n",
       " 'world',\n",
       " 'la',\n",
       " 'e',\n",
       " 'buffet',\n",
       " 'cine',\n",
       " 'got',\n",
       " 'amore',\n",
       " 'wat']"
      ]
     },
     "execution_count": 23,
     "metadata": {},
     "output_type": "execute_result"
    }
   ],
   "source": [
    "h_words = sms[sms.label=='ham'].clean_msg.apply(lambda x: [word.lower() for word in x.split()])    #Save messages as lowercase list\n",
    "h_words[0]"
   ]
  },
  {
   "cell_type": "code",
   "execution_count": 24,
   "id": "bf15e814",
   "metadata": {
    "execution": {
     "iopub.execute_input": "2023-02-21T19:38:42.894912Z",
     "iopub.status.busy": "2023-02-21T19:38:42.894543Z",
     "iopub.status.idle": "2023-02-21T19:38:42.915549Z",
     "shell.execute_reply": "2023-02-21T19:38:42.914188Z"
    },
    "papermill": {
     "duration": 0.043211,
     "end_time": "2023-02-21T19:38:42.917518",
     "exception": false,
     "start_time": "2023-02-21T19:38:42.874307",
     "status": "completed"
    },
    "tags": []
   },
   "outputs": [
    {
     "name": "stdout",
     "output_type": "stream",
     "text": [
      "[('u', 972), ('im', 449), ('2', 305), ('get', 303), ('ltgt', 276), ('ok', 272), ('dont', 257), ('go', 247), ('ur', 240), ('ill', 236), ('know', 232), ('got', 231), ('like', 229), ('call', 229), ('come', 224), ('good', 222), ('time', 189), ('day', 187), ('love', 185), ('4', 168), ('going', 167), ('want', 163), ('one', 162), ('home', 160), ('lor', 160), ('need', 156), ('sorry', 153), ('still', 146), ('see', 137), ('n', 134), ('later', 134), ('da', 131), ('r', 131), ('back', 129), ('think', 128), ('well', 126), ('today', 125), ('send', 123), ('tell', 121), ('cant', 118), ('ì', 117), ('hi', 117), ('take', 112), ('much', 112), ('oh', 111), ('night', 107), ('hey', 106), ('happy', 105), ('great', 100), ('way', 100)]\n"
     ]
    }
   ],
   "source": [
    "from collections import Counter\n",
    "ham_words = Counter()\n",
    "\n",
    "for each_word in h_words:               \n",
    "    ham_words.update(each_word)       \n",
    "    \n",
    "print(ham_words.most_common(50))     "
   ]
  },
  {
   "cell_type": "code",
   "execution_count": 25,
   "id": "0bd32fa3",
   "metadata": {
    "execution": {
     "iopub.execute_input": "2023-02-21T19:38:43.030129Z",
     "iopub.status.busy": "2023-02-21T19:38:43.029781Z",
     "iopub.status.idle": "2023-02-21T19:38:43.044599Z",
     "shell.execute_reply": "2023-02-21T19:38:43.043250Z"
    },
    "papermill": {
     "duration": 0.036123,
     "end_time": "2023-02-21T19:38:43.046512",
     "exception": false,
     "start_time": "2023-02-21T19:38:43.010389",
     "status": "completed"
    },
    "tags": []
   },
   "outputs": [
    {
     "name": "stdout",
     "output_type": "stream",
     "text": [
      "[('call', 347), ('free', 216), ('2', 173), ('txt', 150), ('u', 147), ('ur', 144), ('mobile', 123), ('text', 120), ('4', 119), ('claim', 113), ('stop', 113), ('reply', 101), ('prize', 92), ('get', 83), ('new', 69), ('send', 67), ('nokia', 65), ('urgent', 63), ('cash', 62), ('win', 60), ('contact', 56), ('service', 55), ('please', 52), ('guaranteed', 50), ('customer', 49), ('16', 49), ('week', 49), ('tone', 48), ('per', 46), ('phone', 45), ('18', 43), ('chat', 42), ('awarded', 38), ('draw', 38), ('latest', 36), ('å£1000', 35), ('line', 35), ('150ppm', 34), ('mins', 34), ('receive', 33), ('camera', 33), ('1', 33), ('every', 33), ('message', 32), ('holiday', 32), ('landline', 32), ('shows', 31), ('å£2000', 31), ('go', 31), ('box', 30)]\n"
     ]
    }
   ],
   "source": [
    "s_words = sms[sms.label=='spam'].clean_msg.apply(lambda x: [word.lower() for word in x.split()])    #Save messages as lowercase list\n",
    "spam_words = Counter()\n",
    "for each_word in s_words:              \n",
    "    spam_words.update(each_word)      \n",
    "    \n",
    "print(spam_words.most_common(50))     "
   ]
  },
  {
   "cell_type": "code",
   "execution_count": 26,
   "id": "c59f2ba1",
   "metadata": {
    "execution": {
     "iopub.execute_input": "2023-02-21T19:38:43.121107Z",
     "iopub.status.busy": "2023-02-21T19:38:43.120714Z",
     "iopub.status.idle": "2023-02-21T19:38:43.126246Z",
     "shell.execute_reply": "2023-02-21T19:38:43.125525Z"
    },
    "papermill": {
     "duration": 0.027762,
     "end_time": "2023-02-21T19:38:43.128110",
     "exception": false,
     "start_time": "2023-02-21T19:38:43.100348",
     "status": "completed"
    },
    "tags": []
   },
   "outputs": [
    {
     "name": "stdout",
     "output_type": "stream",
     "text": [
      "(5572,)\n",
      "(5572,)\n"
     ]
    }
   ],
   "source": [
    "X = sms.clean_msg    \n",
    "y = sms.label_num    \n",
    "\n",
    "print(X.shape)       \n",
    "print(y.shape)       "
   ]
  },
  {
   "cell_type": "code",
   "execution_count": 27,
   "id": "6b2a5737",
   "metadata": {
    "execution": {
     "iopub.execute_input": "2023-02-21T19:38:43.201397Z",
     "iopub.status.busy": "2023-02-21T19:38:43.201014Z",
     "iopub.status.idle": "2023-02-21T19:38:43.208085Z",
     "shell.execute_reply": "2023-02-21T19:38:43.207141Z"
    },
    "papermill": {
     "duration": 0.028135,
     "end_time": "2023-02-21T19:38:43.210269",
     "exception": false,
     "start_time": "2023-02-21T19:38:43.182134",
     "status": "completed"
    },
    "tags": []
   },
   "outputs": [],
   "source": [
    "from sklearn.model_selection import train_test_split\n",
    "X_train, X_test, y_train, y_test = train_test_split(X,\n",
    "                                                    y,\n",
    "                                                    random_state = 42)"
   ]
  },
  {
   "cell_type": "code",
   "execution_count": 28,
   "id": "ae85ceb5",
   "metadata": {
    "execution": {
     "iopub.execute_input": "2023-02-21T19:38:43.248964Z",
     "iopub.status.busy": "2023-02-21T19:38:43.248574Z",
     "iopub.status.idle": "2023-02-21T19:38:43.253708Z",
     "shell.execute_reply": "2023-02-21T19:38:43.252814Z"
    },
    "papermill": {
     "duration": 0.027187,
     "end_time": "2023-02-21T19:38:43.256228",
     "exception": false,
     "start_time": "2023-02-21T19:38:43.229041",
     "status": "completed"
    },
    "tags": []
   },
   "outputs": [
    {
     "name": "stdout",
     "output_type": "stream",
     "text": [
      "(4179,) (1393,)\n",
      "(4179,) (1393,)\n"
     ]
    }
   ],
   "source": [
    "print(X_train.shape, X_test.shape)\n",
    "print(y_train.shape, y_test.shape)"
   ]
  },
  {
   "cell_type": "code",
   "execution_count": 29,
   "id": "c48ccc7f",
   "metadata": {
    "execution": {
     "iopub.execute_input": "2023-02-21T19:38:43.371089Z",
     "iopub.status.busy": "2023-02-21T19:38:43.370610Z",
     "iopub.status.idle": "2023-02-21T19:38:43.465316Z",
     "shell.execute_reply": "2023-02-21T19:38:43.464504Z"
    },
    "papermill": {
     "duration": 0.11879,
     "end_time": "2023-02-21T19:38:43.468171",
     "exception": false,
     "start_time": "2023-02-21T19:38:43.349381",
     "status": "completed"
    },
    "tags": []
   },
   "outputs": [],
   "source": [
    "from sklearn.feature_extraction.text import CountVectorizer    \n",
    "\n",
    "vect = CountVectorizer()                 \n",
    "vect.fit(X_train)\n",
    "X_train_dtm = vect.transform(X_train)    "
   ]
  },
  {
   "cell_type": "code",
   "execution_count": 30,
   "id": "a6926e5f",
   "metadata": {
    "execution": {
     "iopub.execute_input": "2023-02-21T19:38:43.545342Z",
     "iopub.status.busy": "2023-02-21T19:38:43.544997Z",
     "iopub.status.idle": "2023-02-21T19:38:43.566564Z",
     "shell.execute_reply": "2023-02-21T19:38:43.565521Z"
    },
    "papermill": {
     "duration": 0.043734,
     "end_time": "2023-02-21T19:38:43.568636",
     "exception": false,
     "start_time": "2023-02-21T19:38:43.524902",
     "status": "completed"
    },
    "tags": []
   },
   "outputs": [],
   "source": [
    "X_test_dtm = vect.transform(X_test)           "
   ]
  },
  {
   "cell_type": "code",
   "execution_count": 31,
   "id": "5d19d1db",
   "metadata": {
    "execution": {
     "iopub.execute_input": "2023-02-21T19:38:43.682409Z",
     "iopub.status.busy": "2023-02-21T19:38:43.682084Z",
     "iopub.status.idle": "2023-02-21T19:38:43.688190Z",
     "shell.execute_reply": "2023-02-21T19:38:43.687206Z"
    },
    "papermill": {
     "duration": 0.028954,
     "end_time": "2023-02-21T19:38:43.690558",
     "exception": false,
     "start_time": "2023-02-21T19:38:43.661604",
     "status": "completed"
    },
    "tags": []
   },
   "outputs": [
    {
     "data": {
      "text/plain": [
       "<1393x7935 sparse matrix of type '<class 'numpy.int64'>'\n",
       "\twith 10448 stored elements in Compressed Sparse Row format>"
      ]
     },
     "execution_count": 31,
     "metadata": {},
     "output_type": "execute_result"
    }
   ],
   "source": [
    "X_test_dtm"
   ]
  },
  {
   "cell_type": "code",
   "execution_count": 32,
   "id": "646d95b0",
   "metadata": {
    "execution": {
     "iopub.execute_input": "2023-02-21T19:38:43.730166Z",
     "iopub.status.busy": "2023-02-21T19:38:43.729554Z",
     "iopub.status.idle": "2023-02-21T19:38:43.734511Z",
     "shell.execute_reply": "2023-02-21T19:38:43.733875Z"
    },
    "papermill": {
     "duration": 0.026533,
     "end_time": "2023-02-21T19:38:43.736074",
     "exception": false,
     "start_time": "2023-02-21T19:38:43.709541",
     "status": "completed"
    },
    "tags": []
   },
   "outputs": [
    {
     "data": {
      "text/plain": [
       "<4179x7935 sparse matrix of type '<class 'numpy.int64'>'\n",
       "\twith 35241 stored elements in Compressed Sparse Row format>"
      ]
     },
     "execution_count": 32,
     "metadata": {},
     "output_type": "execute_result"
    }
   ],
   "source": [
    "X_train_dtm"
   ]
  },
  {
   "cell_type": "code",
   "execution_count": 33,
   "id": "19c882f4",
   "metadata": {
    "execution": {
     "iopub.execute_input": "2023-02-21T19:38:43.813975Z",
     "iopub.status.busy": "2023-02-21T19:38:43.813312Z",
     "iopub.status.idle": "2023-02-21T19:38:43.826068Z",
     "shell.execute_reply": "2023-02-21T19:38:43.824864Z"
    },
    "papermill": {
     "duration": 0.035908,
     "end_time": "2023-02-21T19:38:43.828169",
     "exception": false,
     "start_time": "2023-02-21T19:38:43.792261",
     "status": "completed"
    },
    "tags": []
   },
   "outputs": [
    {
     "data": {
      "text/html": [
       "<style>#sk-container-id-1 {color: black;background-color: white;}#sk-container-id-1 pre{padding: 0;}#sk-container-id-1 div.sk-toggleable {background-color: white;}#sk-container-id-1 label.sk-toggleable__label {cursor: pointer;display: block;width: 100%;margin-bottom: 0;padding: 0.3em;box-sizing: border-box;text-align: center;}#sk-container-id-1 label.sk-toggleable__label-arrow:before {content: \"▸\";float: left;margin-right: 0.25em;color: #696969;}#sk-container-id-1 label.sk-toggleable__label-arrow:hover:before {color: black;}#sk-container-id-1 div.sk-estimator:hover label.sk-toggleable__label-arrow:before {color: black;}#sk-container-id-1 div.sk-toggleable__content {max-height: 0;max-width: 0;overflow: hidden;text-align: left;background-color: #f0f8ff;}#sk-container-id-1 div.sk-toggleable__content pre {margin: 0.2em;color: black;border-radius: 0.25em;background-color: #f0f8ff;}#sk-container-id-1 input.sk-toggleable__control:checked~div.sk-toggleable__content {max-height: 200px;max-width: 100%;overflow: auto;}#sk-container-id-1 input.sk-toggleable__control:checked~label.sk-toggleable__label-arrow:before {content: \"▾\";}#sk-container-id-1 div.sk-estimator input.sk-toggleable__control:checked~label.sk-toggleable__label {background-color: #d4ebff;}#sk-container-id-1 div.sk-label input.sk-toggleable__control:checked~label.sk-toggleable__label {background-color: #d4ebff;}#sk-container-id-1 input.sk-hidden--visually {border: 0;clip: rect(1px 1px 1px 1px);clip: rect(1px, 1px, 1px, 1px);height: 1px;margin: -1px;overflow: hidden;padding: 0;position: absolute;width: 1px;}#sk-container-id-1 div.sk-estimator {font-family: monospace;background-color: #f0f8ff;border: 1px dotted black;border-radius: 0.25em;box-sizing: border-box;margin-bottom: 0.5em;}#sk-container-id-1 div.sk-estimator:hover {background-color: #d4ebff;}#sk-container-id-1 div.sk-parallel-item::after {content: \"\";width: 100%;border-bottom: 1px solid gray;flex-grow: 1;}#sk-container-id-1 div.sk-label:hover label.sk-toggleable__label {background-color: #d4ebff;}#sk-container-id-1 div.sk-serial::before {content: \"\";position: absolute;border-left: 1px solid gray;box-sizing: border-box;top: 0;bottom: 0;left: 50%;z-index: 0;}#sk-container-id-1 div.sk-serial {display: flex;flex-direction: column;align-items: center;background-color: white;padding-right: 0.2em;padding-left: 0.2em;position: relative;}#sk-container-id-1 div.sk-item {position: relative;z-index: 1;}#sk-container-id-1 div.sk-parallel {display: flex;align-items: stretch;justify-content: center;background-color: white;position: relative;}#sk-container-id-1 div.sk-item::before, #sk-container-id-1 div.sk-parallel-item::before {content: \"\";position: absolute;border-left: 1px solid gray;box-sizing: border-box;top: 0;bottom: 0;left: 50%;z-index: -1;}#sk-container-id-1 div.sk-parallel-item {display: flex;flex-direction: column;z-index: 1;position: relative;background-color: white;}#sk-container-id-1 div.sk-parallel-item:first-child::after {align-self: flex-end;width: 50%;}#sk-container-id-1 div.sk-parallel-item:last-child::after {align-self: flex-start;width: 50%;}#sk-container-id-1 div.sk-parallel-item:only-child::after {width: 0;}#sk-container-id-1 div.sk-dashed-wrapped {border: 1px dashed gray;margin: 0 0.4em 0.5em 0.4em;box-sizing: border-box;padding-bottom: 0.4em;background-color: white;}#sk-container-id-1 div.sk-label label {font-family: monospace;font-weight: bold;display: inline-block;line-height: 1.2em;}#sk-container-id-1 div.sk-label-container {text-align: center;}#sk-container-id-1 div.sk-container {/* jupyter's `normalize.less` sets `[hidden] { display: none; }` but bootstrap.min.css set `[hidden] { display: none !important; }` so we also need the `!important` here to be able to override the default hidden behavior on the sphinx rendered scikit-learn.org. See: https://github.com/scikit-learn/scikit-learn/issues/21755 */display: inline-block !important;position: relative;}#sk-container-id-1 div.sk-text-repr-fallback {display: none;}</style><div id=\"sk-container-id-1\" class=\"sk-top-container\"><div class=\"sk-text-repr-fallback\"><pre>MultinomialNB()</pre><b>In a Jupyter environment, please rerun this cell to show the HTML representation or trust the notebook. <br />On GitHub, the HTML representation is unable to render, please try loading this page with nbviewer.org.</b></div><div class=\"sk-container\" hidden><div class=\"sk-item\"><div class=\"sk-estimator sk-toggleable\"><input class=\"sk-toggleable__control sk-hidden--visually\" id=\"sk-estimator-id-1\" type=\"checkbox\" checked><label for=\"sk-estimator-id-1\" class=\"sk-toggleable__label sk-toggleable__label-arrow\">MultinomialNB</label><div class=\"sk-toggleable__content\"><pre>MultinomialNB()</pre></div></div></div></div></div>"
      ],
      "text/plain": [
       "MultinomialNB()"
      ]
     },
     "execution_count": 33,
     "metadata": {},
     "output_type": "execute_result"
    }
   ],
   "source": [
    "from sklearn.naive_bayes import MultinomialNB \n",
    "\n",
    "nb = MultinomialNB()         \n",
    "nb.fit(X_train_dtm, y_train)  "
   ]
  },
  {
   "cell_type": "code",
   "execution_count": 34,
   "id": "e6d86eb7",
   "metadata": {
    "execution": {
     "iopub.execute_input": "2023-02-21T19:38:43.904576Z",
     "iopub.status.busy": "2023-02-21T19:38:43.903936Z",
     "iopub.status.idle": "2023-02-21T19:38:43.909809Z",
     "shell.execute_reply": "2023-02-21T19:38:43.909118Z"
    },
    "papermill": {
     "duration": 0.027278,
     "end_time": "2023-02-21T19:38:43.911329",
     "exception": false,
     "start_time": "2023-02-21T19:38:43.884051",
     "status": "completed"
    },
    "tags": []
   },
   "outputs": [
    {
     "data": {
      "text/plain": [
       "array([0, 0, 1, ..., 0, 0, 0])"
      ]
     },
     "execution_count": 34,
     "metadata": {},
     "output_type": "execute_result"
    }
   ],
   "source": [
    "y_pred_class = nb.predict(X_test_dtm)     \n",
    "\n",
    "y_pred_class"
   ]
  },
  {
   "cell_type": "code",
   "execution_count": 35,
   "id": "46dce8a6",
   "metadata": {
    "execution": {
     "iopub.execute_input": "2023-02-21T19:38:43.986960Z",
     "iopub.status.busy": "2023-02-21T19:38:43.986351Z",
     "iopub.status.idle": "2023-02-21T19:38:43.992715Z",
     "shell.execute_reply": "2023-02-21T19:38:43.991881Z"
    },
    "papermill": {
     "duration": 0.028275,
     "end_time": "2023-02-21T19:38:43.994821",
     "exception": false,
     "start_time": "2023-02-21T19:38:43.966546",
     "status": "completed"
    },
    "tags": []
   },
   "outputs": [
    {
     "name": "stderr",
     "output_type": "stream",
     "text": [
      "/var/folders/b_/9rw5mf8944v4bpwyn_sjt_8h0000gn/T/ipykernel_10701/3131513211.py:1: FutureWarning: The behavior of `series[i:j]` with an integer-dtype index is deprecated. In a future version, this will be treated as *label-based* indexing, consistent with e.g. `series[i]` lookups. To retain the old behavior, use `series.iloc[i:j]`. To get the future behavior, use `series.loc[i:j]`.\n",
      "  X_test[2:3]\n"
     ]
    },
    {
     "data": {
      "text/plain": [
       "1044    know someone know fancies Call 09058097218 fin...\n",
       "Name: clean_msg, dtype: object"
      ]
     },
     "execution_count": 35,
     "metadata": {},
     "output_type": "execute_result"
    }
   ],
   "source": [
    "X_test[2:3]"
   ]
  },
  {
   "cell_type": "code",
   "execution_count": 36,
   "id": "9b451fa3",
   "metadata": {
    "execution": {
     "iopub.execute_input": "2023-02-21T19:38:44.109018Z",
     "iopub.status.busy": "2023-02-21T19:38:44.108461Z",
     "iopub.status.idle": "2023-02-21T19:38:44.113939Z",
     "shell.execute_reply": "2023-02-21T19:38:44.113346Z"
    },
    "papermill": {
     "duration": 0.02657,
     "end_time": "2023-02-21T19:38:44.115420",
     "exception": false,
     "start_time": "2023-02-21T19:38:44.088850",
     "status": "completed"
    },
    "tags": []
   },
   "outputs": [
    {
     "data": {
      "text/plain": [
       "0.9798994974874372"
      ]
     },
     "execution_count": 36,
     "metadata": {},
     "output_type": "execute_result"
    }
   ],
   "source": [
    "from sklearn import metrics\n",
    "metrics.accuracy_score(y_test, y_pred_class)"
   ]
  },
  {
   "cell_type": "code",
   "execution_count": 37,
   "id": "5b4e0ce6",
   "metadata": {
    "execution": {
     "iopub.execute_input": "2023-02-21T19:38:44.155989Z",
     "iopub.status.busy": "2023-02-21T19:38:44.155418Z",
     "iopub.status.idle": "2023-02-21T19:38:44.163274Z",
     "shell.execute_reply": "2023-02-21T19:38:44.162117Z"
    },
    "papermill": {
     "duration": 0.030654,
     "end_time": "2023-02-21T19:38:44.164983",
     "exception": false,
     "start_time": "2023-02-21T19:38:44.134329",
     "status": "completed"
    },
    "tags": []
   },
   "outputs": [
    {
     "data": {
      "text/plain": [
       "array([[1196,    6],\n",
       "       [  22,  169]])"
      ]
     },
     "execution_count": 37,
     "metadata": {},
     "output_type": "execute_result"
    }
   ],
   "source": [
    "metrics.confusion_matrix(y_test, y_pred_class)"
   ]
  },
  {
   "cell_type": "code",
   "execution_count": 38,
   "id": "15c03f38",
   "metadata": {
    "execution": {
     "iopub.execute_input": "2023-02-21T19:38:44.280609Z",
     "iopub.status.busy": "2023-02-21T19:38:44.279333Z",
     "iopub.status.idle": "2023-02-21T19:38:44.286061Z",
     "shell.execute_reply": "2023-02-21T19:38:44.285500Z"
    },
    "papermill": {
     "duration": 0.028687,
     "end_time": "2023-02-21T19:38:44.288049",
     "exception": false,
     "start_time": "2023-02-21T19:38:44.259362",
     "status": "completed"
    },
    "tags": []
   },
   "outputs": [
    {
     "data": {
      "text/plain": [
       "4700                                     liked new mobile\n",
       "1505    Total video converter free download type googl...\n",
       "4417                                        get free call\n",
       "5044    sent JD Customer Service cum Accounts Executiv...\n",
       "2418    Madamregret disturbancemight receive reference...\n",
       "75                               waiting machan Call free\n",
       "Name: clean_msg, dtype: object"
      ]
     },
     "execution_count": 38,
     "metadata": {},
     "output_type": "execute_result"
    }
   ],
   "source": [
    "X_test[y_pred_class > y_test]  "
   ]
  },
  {
   "cell_type": "code",
   "execution_count": 39,
   "id": "37c2a15f",
   "metadata": {
    "execution": {
     "iopub.execute_input": "2023-02-21T19:38:44.330557Z",
     "iopub.status.busy": "2023-02-21T19:38:44.329938Z",
     "iopub.status.idle": "2023-02-21T19:38:44.336528Z",
     "shell.execute_reply": "2023-02-21T19:38:44.335912Z"
    },
    "papermill": {
     "duration": 0.03023,
     "end_time": "2023-02-21T19:38:44.338762",
     "exception": false,
     "start_time": "2023-02-21T19:38:44.308532",
     "status": "completed"
    },
    "tags": []
   },
   "outputs": [
    {
     "data": {
      "text/plain": [
       "683     Hi Im sue 20 years old work lapdancer love sex...\n",
       "3979                                   ringtoneking 84484\n",
       "1268    U get 2 phone wanna chat 2 set meet Call 09096...\n",
       "730     Email AlertFrom Jeri StewartSize 2KBSubject Lo...\n",
       "2662    Hello darling today would love chat dont tell ...\n",
       "4296    thesmszonecom lets send free anonymous masked ...\n",
       "1468    Hi LUCY Hubby meetins day Fri B alone hotel U ...\n",
       "787     Ever thought living good life perfect partner ...\n",
       "4371    Ur balance å£600 Next question Complete landma...\n",
       "1894    FreeMsg Hey U got 1 videopic fones reply WILD ...\n",
       "2819    INTERFLORA åÒIts late order Interflora flowers...\n",
       "1892    CALL 09090900040 LISTEN EXTREME DIRTY LIVE CHA...\n",
       "3740                                         22 146tf150p\n",
       "4211    Missed call alert numbers called left message ...\n",
       "4796    Santa calling Would little ones like call Sant...\n",
       "1874         Would like see XXX pics hot nearly banned uk\n",
       "2963    ever notice youre driving anyone going slower ...\n",
       "4674    Hi babe Chloe r u smashed saturday night great...\n",
       "2268                         88066 88066 LOST 3POUND HELP\n",
       "3458    heard U4 Call night knickers Make beg like U l...\n",
       "2698                                 88066 LOST å£12 HELP\n",
       "68               hear new Divorce Barbie comes Kens stuff\n",
       "Name: clean_msg, dtype: object"
      ]
     },
     "execution_count": 39,
     "metadata": {},
     "output_type": "execute_result"
    }
   ],
   "source": [
    "X_test[y_pred_class < y_test]   "
   ]
  }
 ],
 "metadata": {
  "kernelspec": {
   "display_name": "Python 3 (ipykernel)",
   "language": "python",
   "name": "python3"
  },
  "language_info": {
   "codemirror_mode": {
    "name": "ipython",
    "version": 3
   },
   "file_extension": ".py",
   "mimetype": "text/x-python",
   "name": "python",
   "nbconvert_exporter": "python",
   "pygments_lexer": "ipython3",
   "version": "3.10.6"
  },
  "papermill": {
   "default_parameters": {},
   "duration": 17.931703,
   "end_time": "2023-02-21T19:38:45.079124",
   "environment_variables": {},
   "exception": null,
   "input_path": "__notebook__.ipynb",
   "output_path": "__notebook__.ipynb",
   "parameters": {},
   "start_time": "2023-02-21T19:38:27.147421",
   "version": "2.3.4"
  }
 },
 "nbformat": 4,
 "nbformat_minor": 5
}
